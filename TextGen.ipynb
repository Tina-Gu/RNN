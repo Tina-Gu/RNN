{
 "cells": [
  {
   "cell_type": "code",
   "execution_count": 28,
   "id": "dc492262",
   "metadata": {},
   "outputs": [
    {
     "name": "stdout",
     "output_type": "stream",
     "text": [
      "Size of dataset:  1360\n"
     ]
    }
   ],
   "source": [
    "import re\n",
    "import numpy as np\n",
    "import torch\n",
    "import torch.nn as nn\n",
    "import torch.optim as optim\n",
    "import string\n",
    "import matplotlib.pyplot as plt\n",
    "%matplotlib inline\n",
    "\n",
    "\n",
    "\n",
    "\n",
    "sentences = []\n",
    "with open('randgen.txt') as f:\n",
    "    for line in f:\n",
    "        l = re.sub(r'[^\\w\\s\\d+]','',line).lower().strip('\\n')\n",
    "        sentences.append(l)\n",
    "print(\"Size of dataset: \", len(sentences))\n"
   ]
  },
  {
   "cell_type": "code",
   "execution_count": 31,
   "id": "2e45ba64",
   "metadata": {},
   "outputs": [
    {
     "name": "stdout",
     "output_type": "stream",
     "text": [
      "Epoch: 1000 cost = 4.227792\n",
      "Epoch: 2000 cost = 3.348514\n",
      "Epoch: 3000 cost = 2.869174\n",
      "Epoch: 4000 cost = 2.486739\n",
      "Epoch: 5000 cost = 2.160369\n",
      "Epoch: 6000 cost = 1.903823\n",
      "Epoch: 7000 cost = 1.698434\n",
      "Epoch: 8000 cost = 1.520697\n",
      "Epoch: 9000 cost = 1.366377\n",
      "Epoch: 10000 cost = 1.227264\n",
      "Epoch: 11000 cost = 1.105499\n",
      "Epoch: 12000 cost = 1.001815\n",
      "Epoch: 13000 cost = 0.905773\n",
      "Epoch: 14000 cost = 0.818133\n",
      "Epoch: 15000 cost = 0.737463\n",
      "Epoch: 16000 cost = 0.667067\n",
      "Epoch: 17000 cost = 0.605742\n",
      "Epoch: 18000 cost = 0.545531\n",
      "Epoch: 19000 cost = 0.491571\n",
      "Epoch: 20000 cost = 0.439632\n",
      "Epoch: 21000 cost = 0.398084\n",
      "Epoch: 22000 cost = 0.364129\n",
      "Epoch: 23000 cost = 0.332998\n",
      "Epoch: 24000 cost = 0.304976\n",
      "Epoch: 25000 cost = 0.280281\n",
      "Epoch: 26000 cost = 0.255451\n",
      "Epoch: 27000 cost = 0.235141\n",
      "Epoch: 28000 cost = 0.216419\n",
      "Epoch: 29000 cost = 0.201500\n",
      "Epoch: 30000 cost = 0.189369\n",
      "Epoch: 31000 cost = 0.177843\n",
      "Epoch: 32000 cost = 0.167002\n",
      "Epoch: 33000 cost = 0.157381\n",
      "Epoch: 34000 cost = 0.147769\n",
      "Epoch: 35000 cost = 0.139808\n",
      "Epoch: 36000 cost = 0.133710\n",
      "Epoch: 37000 cost = 0.127820\n",
      "Epoch: 38000 cost = 0.121922\n",
      "Epoch: 39000 cost = 0.117311\n",
      "Epoch: 40000 cost = 0.112855\n",
      "Epoch: 41000 cost = 0.107730\n",
      "Epoch: 42000 cost = 0.103931\n",
      "Epoch: 43000 cost = 0.101204\n",
      "Epoch: 44000 cost = 0.098492\n",
      "Epoch: 45000 cost = 0.095568\n",
      "Epoch: 46000 cost = 0.093116\n",
      "Epoch: 47000 cost = 0.091093\n",
      "Epoch: 48000 cost = 0.089625\n",
      "Epoch: 49000 cost = 0.088379\n",
      "Epoch: 50000 cost = 0.087309\n",
      "Epoch: 51000 cost = 0.086136\n",
      "Epoch: 52000 cost = 0.084932\n",
      "Epoch: 53000 cost = 0.084003\n",
      "Epoch: 54000 cost = 0.083261\n",
      "Epoch: 55000 cost = 0.082503\n",
      "Epoch: 56000 cost = 0.081899\n",
      "Epoch: 57000 cost = 0.081390\n",
      "Epoch: 58000 cost = 0.080977\n",
      "Epoch: 59000 cost = 0.079218\n",
      "Epoch: 60000 cost = 0.077951\n",
      "Epoch: 61000 cost = 0.077265\n",
      "Epoch: 62000 cost = 0.076693\n",
      "Epoch: 63000 cost = 0.075429\n",
      "Epoch: 64000 cost = 0.074913\n",
      "Epoch: 65000 cost = 0.074581\n",
      "Epoch: 66000 cost = 0.074318\n",
      "Epoch: 67000 cost = 0.074097\n",
      "Epoch: 68000 cost = 0.073752\n",
      "Epoch: 69000 cost = 0.073128\n",
      "Epoch: 70000 cost = 0.072836\n"
     ]
    }
   ],
   "source": [
    "# Basic RNN\n",
    "def make_batch():\n",
    "    input_batch = []\n",
    "    target_batch = []\n",
    "\n",
    "    for sen in sentences:\n",
    "        word = sen.split()  # space tokenizer\n",
    "        input = [word_dict[n] for n in word[:-1]]  # create (1~n-1) as input\n",
    "        target = word_dict[word[-1]]  # create (n) as target, We usually call this 'casual language model'\n",
    "\n",
    "        input_batch.append(np.eye(n_class)[input])\n",
    "        target_batch.append(target)\n",
    "\n",
    "    return input_batch, target_batch\n",
    "\n",
    "class TextRNN(nn.Module):\n",
    "    def __init__(self):\n",
    "        super(TextRNN, self).__init__()\n",
    "        self.rnn = nn.RNN(input_size=n_class, hidden_size=n_hidden)\n",
    "        self.W = nn.Linear(n_hidden, n_class, bias=False)\n",
    "        self.b = nn.Parameter(torch.ones([n_class]))\n",
    "\n",
    "    def forward(self, hidden, X):\n",
    "        X = X.transpose(0, 1) # X : [n_step, batch_size, n_class]\n",
    "        outputs, hidden = self.rnn(X, hidden)\n",
    "        # outputs : [n_step, batch_size, num_directions(=1) * n_hidden]\n",
    "        # hidden : [num_layers(=1) * num_directions(=1), batch_size, n_hidden]\n",
    "        outputs = outputs[-1] # [batch_size, num_directions(=1) * n_hidden]\n",
    "        model = self.W(outputs) + self.b # model : [batch_size, n_class]\n",
    "        return model\n",
    "\n",
    "if __name__ == '__main__':\n",
    "    n_step = 3 # number of cells(= number of Step)\n",
    "    n_hidden = 5 # number of hidden units in one cell\n",
    "\n",
    "    # sentences = [\"acting is key\", \"acting is soul\", \"acting is mysterious\", \"acting is sport\", \"we love acting\", \"callen is handsome\"]\n",
    "    \n",
    "\n",
    "    word_list = \" \".join(sentences).split()\n",
    "    word_list = list(set(word_list))\n",
    "    word_dict = {w: i for i, w in enumerate(word_list)}\n",
    "    number_dict = {i: w for i, w in enumerate(word_list)}\n",
    "    n_class = len(word_dict)\n",
    "    batch_size = len(sentences)\n",
    "\n",
    "    model = TextRNN()\n",
    "\n",
    "    criterion = nn.CrossEntropyLoss()\n",
    "    optimizer = optim.Adam(model.parameters(), lr=0.001)\n",
    "\n",
    "    input_batch, target_batch = make_batch()\n",
    "    input_batch = torch.FloatTensor(input_batch)\n",
    "    target_batch = torch.LongTensor(target_batch)\n",
    "    loss_list = []\n",
    "\n",
    "    # Training\n",
    "    for epoch in range(70000):\n",
    "        optimizer.zero_grad()\n",
    "\n",
    "        # hidden : [num_layers * num_directions, batch, hidden_size]\n",
    "        hidden = torch.zeros(1, batch_size, n_hidden)\n",
    "        # input_batch : [batch_size, n_step, n_class]\n",
    "        output = model(hidden, input_batch)\n",
    "\n",
    "        # output : [batch_size, n_class], target_batch : [batch_size] (LongTensor, not one-hot)\n",
    "        loss = criterion(output, target_batch)\n",
    "        loss_list.append(loss)\n",
    "        if (epoch + 1) % 1000 == 0:\n",
    "            print('Epoch:', '%04d' % (epoch + 1), 'cost =', '{:.6f}'.format(loss))\n",
    "\n",
    "        loss.backward()\n",
    "        optimizer.step()\n",
    "\n",
    "    # input = [sen.split()[:2] for sen in sentences]\n",
    "\n",
    "    # Predict\n",
    "    hidden = torch.zeros(1, batch_size, n_hidden)\n",
    "    predict = model(hidden, input_batch).data.max(1, keepdim=True)[1]\n",
    "    #print([sen.split()[:2] for sen in sentences], '->', [number_dict[n.item()] for n in predict.squeeze()])\n",
    "    sen_list = [sen.split()[:3] for sen in sentences]\n",
    "    predicted_list = [number_dict[n.item()] for n in predict.squeeze()]"
   ]
  },
  {
   "cell_type": "code",
   "execution_count": 32,
   "id": "f5ee7a16",
   "metadata": {},
   "outputs": [
    {
     "name": "stdout",
     "output_type": "stream",
     "text": [
      "acc:  0.9536764705882353\n"
     ]
    }
   ],
   "source": [
    "out = []\n",
    "count = 0\n",
    "for i in range(len(sen_list)):\n",
    "    strin = sen_list[i][0]+\" \"+sen_list[i][1]+\" \"+sen_list[i][2]+\" \"+predicted_list[i]\n",
    "    out.append(strin)\n",
    "    if(strin == sentences[i]):\n",
    "        count+=1\n",
    "print('acc: ', count / len(sen_list))"
   ]
  },
  {
   "cell_type": "code",
   "execution_count": 33,
   "id": "e92af139",
   "metadata": {},
   "outputs": [
    {
     "data": {
      "image/png": "[encoded data removed]",
      "text/plain": [
       "<Figure size 1440x720 with 1 Axes>"
      ]
     },
     "metadata": {
      "needs_background": "light"
     },
     "output_type": "display_data"
    }
   ],
   "source": [
    "plt.figure(figsize=(20,10))\n",
    "plt.plot(range(len(loss_list)), loss_list)\n",
    "plt.title(\"Loss over number of epoches\")\n",
    "plt.xlabel('epoch#')\n",
    "plt.ylabel('Loss')\n",
    "plt.show()"
   ]
  },
  {
   "cell_type": "code",
   "execution_count": null,
   "id": "414bbc30",
   "metadata": {},
   "outputs": [],
   "source": []
  }
 ],
 "metadata": {
  "kernelspec": {
   "display_name": "Python 3",
   "language": "python",
   "name": "python3"
  },
  "language_info": {
   "codemirror_mode": {
    "name": "ipython",
    "version": 3
   },
   "file_extension": ".py",
   "mimetype": "text/x-python",
   "name": "python",
   "nbconvert_exporter": "python",
   "pygments_lexer": "ipython3",
   "version": "3.8.8"
  }
 },
 "nbformat": 4,
 "nbformat_minor": 5
}
